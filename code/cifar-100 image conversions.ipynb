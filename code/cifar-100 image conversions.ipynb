{
 "cells": [
  {
   "cell_type": "code",
   "execution_count": 1,
   "metadata": {},
   "outputs": [],
   "source": [
    "import numpy as np\n",
    "from PIL import Image\n",
    "import pickle\n",
    "import pandas as pd\n",
    "import os"
   ]
  },
  {
   "cell_type": "markdown",
   "metadata": {},
   "source": [
    "---"
   ]
  },
  {
   "cell_type": "markdown",
   "metadata": {},
   "source": [
    "## Unpickling "
   ]
  },
  {
   "cell_type": "markdown",
   "metadata": {},
   "source": [
    "---"
   ]
  },
  {
   "cell_type": "code",
   "execution_count": 2,
   "metadata": {},
   "outputs": [],
   "source": [
    "def unpickle_test(path):\n",
    "    with open(path, 'rb') as fo:\n",
    "        dict = pickle.load(fo, encoding='bytes')\n",
    "    return dict\n",
    "test_set = unpickle_test('/home/milin/Desktop/Kartik python/DL/CNN/Datasets/cifar-100-python/test')\n",
    "\n",
    "def unpickle_train(path):\n",
    "    with open(path, 'rb') as fo:\n",
    "        dict = pickle.load(fo, encoding='bytes')\n",
    "    return dict\n",
    "train_set = unpickle_train('/home/milin/Desktop/Kartik python/DL/CNN/Datasets/cifar-100-python/train')"
   ]
  },
  {
   "cell_type": "markdown",
   "metadata": {},
   "source": [
    "---"
   ]
  },
  {
   "cell_type": "markdown",
   "metadata": {},
   "source": [
    "## Train set operations "
   ]
  },
  {
   "cell_type": "markdown",
   "metadata": {},
   "source": [
    "---"
   ]
  },
  {
   "cell_type": "code",
   "execution_count": 3,
   "metadata": {},
   "outputs": [],
   "source": [
    "path_train = \"/home/milin/Desktop/Kartik python/DL/CNN/Datasets/saved_images1/train\""
   ]
  },
  {
   "cell_type": "code",
   "execution_count": 4,
   "metadata": {},
   "outputs": [
    {
     "data": {
      "text/html": [
       "<div>\n",
       "<style scoped>\n",
       "    .dataframe tbody tr th:only-of-type {\n",
       "        vertical-align: middle;\n",
       "    }\n",
       "\n",
       "    .dataframe tbody tr th {\n",
       "        vertical-align: top;\n",
       "    }\n",
       "\n",
       "    .dataframe thead th {\n",
       "        text-align: right;\n",
       "    }\n",
       "</style>\n",
       "<table border=\"1\" class=\"dataframe\">\n",
       "  <thead>\n",
       "    <tr style=\"text-align: right;\">\n",
       "      <th></th>\n",
       "      <th>b'filenames'</th>\n",
       "      <th>b'batch_label'</th>\n",
       "      <th>b'fine_labels'</th>\n",
       "      <th>b'coarse_labels'</th>\n",
       "    </tr>\n",
       "  </thead>\n",
       "  <tbody>\n",
       "    <tr>\n",
       "      <th>0</th>\n",
       "      <td>b'bos_taurus_s_000507.png'</td>\n",
       "      <td>b'training batch 1 of 1'</td>\n",
       "      <td>19</td>\n",
       "      <td>11</td>\n",
       "    </tr>\n",
       "    <tr>\n",
       "      <th>1</th>\n",
       "      <td>b'stegosaurus_s_000125.png'</td>\n",
       "      <td>b'training batch 1 of 1'</td>\n",
       "      <td>29</td>\n",
       "      <td>15</td>\n",
       "    </tr>\n",
       "    <tr>\n",
       "      <th>2</th>\n",
       "      <td>b'mcintosh_s_000643.png'</td>\n",
       "      <td>b'training batch 1 of 1'</td>\n",
       "      <td>0</td>\n",
       "      <td>4</td>\n",
       "    </tr>\n",
       "    <tr>\n",
       "      <th>3</th>\n",
       "      <td>b'altar_boy_s_001435.png'</td>\n",
       "      <td>b'training batch 1 of 1'</td>\n",
       "      <td>11</td>\n",
       "      <td>14</td>\n",
       "    </tr>\n",
       "    <tr>\n",
       "      <th>4</th>\n",
       "      <td>b'cichlid_s_000031.png'</td>\n",
       "      <td>b'training batch 1 of 1'</td>\n",
       "      <td>1</td>\n",
       "      <td>1</td>\n",
       "    </tr>\n",
       "  </tbody>\n",
       "</table>\n",
       "</div>"
      ],
      "text/plain": [
       "                  b'filenames'            b'batch_label'  b'fine_labels'  \\\n",
       "0   b'bos_taurus_s_000507.png'  b'training batch 1 of 1'              19   \n",
       "1  b'stegosaurus_s_000125.png'  b'training batch 1 of 1'              29   \n",
       "2     b'mcintosh_s_000643.png'  b'training batch 1 of 1'               0   \n",
       "3    b'altar_boy_s_001435.png'  b'training batch 1 of 1'              11   \n",
       "4      b'cichlid_s_000031.png'  b'training batch 1 of 1'               1   \n",
       "\n",
       "   b'coarse_labels'  \n",
       "0                11  \n",
       "1                15  \n",
       "2                 4  \n",
       "3                14  \n",
       "4                 1  "
      ]
     },
     "execution_count": 4,
     "metadata": {},
     "output_type": "execute_result"
    }
   ],
   "source": [
    "train_set_exp = train_set.copy(); del train_set_exp[b'data']\n",
    "pd.DataFrame.from_dict(train_set_exp, orient='columns').head()"
   ]
  },
  {
   "cell_type": "code",
   "execution_count": 5,
   "metadata": {},
   "outputs": [],
   "source": [
    "clean_array_train = []\n",
    "for i in train_set[b'data']:\n",
    "    clean_array_train.append(i.reshape(3,32,32).transpose(1,2,0))\n",
    "\n",
    "clean_images_train = []\n",
    "for i in train_set[b'filenames']:\n",
    "    clean_images_train.append(i.decode('UTF-8'))\n",
    "\n",
    "coarse_labels_train = train_set[b'coarse_labels']\n",
    "fine_labels_train = train_set[b'fine_labels']"
   ]
  },
  {
   "cell_type": "code",
   "execution_count": 6,
   "metadata": {},
   "outputs": [],
   "source": [
    "combos_train = ([(i, j, a, k) for i, j, a, k in zip(coarse_labels_train, \n",
    "                                              fine_labels_train, \n",
    "                                              clean_array_train,\n",
    "                                              clean_images_train)])\n",
    "\n",
    "make_folders = [(os.makedirs(os.path.join(path_train, str(coarse)), exist_ok= True),\n",
    "                os.makedirs(os.path.join(path_train, str(coarse), str(fine)), exist_ok= True),\n",
    "                Image.fromarray(np.array(array)).save(os.path.join(path_train, str(coarse), str(fine), str(image))+image)) \n",
    "                for coarse, fine, array, image in combos_train]"
   ]
  },
  {
   "cell_type": "markdown",
   "metadata": {},
   "source": [
    "---"
   ]
  },
  {
   "cell_type": "markdown",
   "metadata": {},
   "source": [
    "## Test set operations "
   ]
  },
  {
   "cell_type": "markdown",
   "metadata": {},
   "source": [
    "----"
   ]
  },
  {
   "cell_type": "code",
   "execution_count": 7,
   "metadata": {},
   "outputs": [],
   "source": [
    "path_test = \"/home/milin/Desktop/Kartik python/DL/CNN/Datasets/saved_images1/test\""
   ]
  },
  {
   "cell_type": "code",
   "execution_count": 8,
   "metadata": {},
   "outputs": [
    {
     "data": {
      "text/html": [
       "<div>\n",
       "<style scoped>\n",
       "    .dataframe tbody tr th:only-of-type {\n",
       "        vertical-align: middle;\n",
       "    }\n",
       "\n",
       "    .dataframe tbody tr th {\n",
       "        vertical-align: top;\n",
       "    }\n",
       "\n",
       "    .dataframe thead th {\n",
       "        text-align: right;\n",
       "    }\n",
       "</style>\n",
       "<table border=\"1\" class=\"dataframe\">\n",
       "  <thead>\n",
       "    <tr style=\"text-align: right;\">\n",
       "      <th></th>\n",
       "      <th>b'filenames'</th>\n",
       "      <th>b'batch_label'</th>\n",
       "      <th>b'fine_labels'</th>\n",
       "      <th>b'coarse_labels'</th>\n",
       "    </tr>\n",
       "  </thead>\n",
       "  <tbody>\n",
       "    <tr>\n",
       "      <th>0</th>\n",
       "      <td>b'volcano_s_000012.png'</td>\n",
       "      <td>b'testing batch 1 of 1'</td>\n",
       "      <td>49</td>\n",
       "      <td>10</td>\n",
       "    </tr>\n",
       "    <tr>\n",
       "      <th>1</th>\n",
       "      <td>b'woods_s_000412.png'</td>\n",
       "      <td>b'testing batch 1 of 1'</td>\n",
       "      <td>33</td>\n",
       "      <td>10</td>\n",
       "    </tr>\n",
       "    <tr>\n",
       "      <th>2</th>\n",
       "      <td>b'seal_s_001803.png'</td>\n",
       "      <td>b'testing batch 1 of 1'</td>\n",
       "      <td>72</td>\n",
       "      <td>0</td>\n",
       "    </tr>\n",
       "    <tr>\n",
       "      <th>3</th>\n",
       "      <td>b'mushroom_s_001755.png'</td>\n",
       "      <td>b'testing batch 1 of 1'</td>\n",
       "      <td>51</td>\n",
       "      <td>4</td>\n",
       "    </tr>\n",
       "    <tr>\n",
       "      <th>4</th>\n",
       "      <td>b'adriatic_sea_s_000653.png'</td>\n",
       "      <td>b'testing batch 1 of 1'</td>\n",
       "      <td>71</td>\n",
       "      <td>10</td>\n",
       "    </tr>\n",
       "  </tbody>\n",
       "</table>\n",
       "</div>"
      ],
      "text/plain": [
       "                   b'filenames'           b'batch_label'  b'fine_labels'  \\\n",
       "0       b'volcano_s_000012.png'  b'testing batch 1 of 1'              49   \n",
       "1         b'woods_s_000412.png'  b'testing batch 1 of 1'              33   \n",
       "2          b'seal_s_001803.png'  b'testing batch 1 of 1'              72   \n",
       "3      b'mushroom_s_001755.png'  b'testing batch 1 of 1'              51   \n",
       "4  b'adriatic_sea_s_000653.png'  b'testing batch 1 of 1'              71   \n",
       "\n",
       "   b'coarse_labels'  \n",
       "0                10  \n",
       "1                10  \n",
       "2                 0  \n",
       "3                 4  \n",
       "4                10  "
      ]
     },
     "execution_count": 8,
     "metadata": {},
     "output_type": "execute_result"
    }
   ],
   "source": [
    "test_set_exp = test_set.copy()\n",
    "del test_set_exp[b'data']\n",
    "pd.DataFrame.from_dict(test_set_exp, orient = 'columns').head()"
   ]
  },
  {
   "cell_type": "code",
   "execution_count": 9,
   "metadata": {},
   "outputs": [],
   "source": [
    "clean_array_test = []\n",
    "for i in test_set[b'data']:\n",
    "    clean_array_test.append(i.reshape(3,32,32).transpose(1,2,0))\n",
    "\n",
    "clean_images_test = []\n",
    "for i in test_set[b'filenames']:\n",
    "    clean_images_test.append(i.decode('UTF-8'))\n",
    "\n",
    "coarse_labels_test = test_set[b'coarse_labels']\n",
    "fine_labels_test = test_set[b'fine_labels']"
   ]
  },
  {
   "cell_type": "code",
   "execution_count": 10,
   "metadata": {},
   "outputs": [],
   "source": [
    "combos_test = ([(i, j, a, k) for i, j, a, k in zip(coarse_labels_test, \n",
    "                                              fine_labels_test, \n",
    "                                              clean_array_test,\n",
    "                                              clean_images_test)])\n",
    "\n",
    "make_folders_test = [(os.makedirs(os.path.join(path_test, str(coarse)), exist_ok= True),\n",
    "                    os.makedirs(os.path.join(path_test, str(coarse), str(fine)), exist_ok= True),\n",
    "                    Image.fromarray(np.array(array)).save(os.path.join(path_test, str(coarse), str(fine), str(image))+image)) \n",
    "                    for coarse, fine, array, image in combos_test]"
   ]
  }
 ],
 "metadata": {
  "kernelspec": {
   "display_name": "Python 3",
   "language": "python",
   "name": "python3"
  },
  "language_info": {
   "codemirror_mode": {
    "name": "ipython",
    "version": 3
   },
   "file_extension": ".py",
   "mimetype": "text/x-python",
   "name": "python",
   "nbconvert_exporter": "python",
   "pygments_lexer": "ipython3",
   "version": "3.7.3"
  }
 },
 "nbformat": 4,
 "nbformat_minor": 2
}
